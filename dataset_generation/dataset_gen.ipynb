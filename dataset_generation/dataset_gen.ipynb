{
 "cells": [
  {
   "cell_type": "markdown",
   "metadata": {
    "id": "header"
   },
   "source": [
    "# Model Interpreter Data Generation Pipeline"
   ]
  },
  {
   "cell_type": "code",
   "execution_count": null,
   "metadata": {},
   "outputs": [
    {
     "name": "stdout",
     "output_type": "stream",
     "text": [
      "[Errno 2] No such file or directory: 'llm-interpretability/dataset_generation'\n",
      "/Users/max/Desktop/llm-interpretability/dataset_generation\n"
     ]
    },
    {
     "name": "stderr",
     "output_type": "stream",
     "text": [
      "/Users/max/.pyenv/versions/3.9.22/lib/python3.9/site-packages/IPython/core/magics/osm.py:393: UserWarning: using bookmarks requires you to install the `pickleshare` library.\n",
      "  bkms = self.shell.db.get('bookmarks', {})\n"
     ]
    },
    {
     "name": "stdout",
     "output_type": "stream",
     "text": [
      "\u001b[31mERROR: pip's dependency resolver does not currently take into account all the packages that are installed. This behaviour is the source of the following dependency conflicts.\n",
      "torchaudio 2.7.0 requires torch==2.7.0, but you have torch 2.6.0 which is incompatible.\n",
      "torchvision 0.22.0 requires torch==2.7.0, but you have torch 2.6.0 which is incompatible.\u001b[0m\u001b[31m\n",
      "\u001b[0m\n",
      "\u001b[1m[\u001b[0m\u001b[34;49mnotice\u001b[0m\u001b[1;39;49m]\u001b[0m\u001b[39;49m A new release of pip is available: \u001b[0m\u001b[31;49m25.1.1\u001b[0m\u001b[39;49m -> \u001b[0m\u001b[32;49m25.2\u001b[0m\n",
      "\u001b[1m[\u001b[0m\u001b[34;49mnotice\u001b[0m\u001b[1;39;49m]\u001b[0m\u001b[39;49m To update, run: \u001b[0m\u001b[32;49mpip install --upgrade pip\u001b[0m\n"
     ]
    }
   ],
   "source": [
    "#@title Set up\n",
    "!git clone https://github.com/maximus-powers/llm-interpretability.git\n",
    "%cd llm-interpretability/dataset_generation\n",
    "!pip install -q -r requirements.txt"
   ]
  },
  {
   "cell_type": "code",
   "execution_count": 2,
   "metadata": {
    "cellView": "form",
    "id": "config"
   },
   "outputs": [],
   "source": [
    "#@title Provide a Config File\n",
    "\n",
    "# example in llm-interpretability/dataset_generation/config.yaml\n",
    "CONFIG_FILEPATH = \"./config.yaml\" #@param {type:\"string\"}"
   ]
  },
  {
   "cell_type": "code",
   "execution_count": 3,
   "metadata": {},
   "outputs": [
    {
     "name": "stdout",
     "output_type": "stream",
     "text": [
      "2025-08-27 20:48:58,374 - root - INFO - Initializing pipeline with config: ./config.yaml\n",
      "2025-08-27 20:48:58,393 - dataset_generation_pipeline - INFO - Device: mps\n",
      "2025-08-27 20:48:58,393 - dataset_generation_pipeline - INFO - Random seed: 42\n",
      "2025-08-27 20:48:58,393 - dataset_generation_pipeline - INFO - Output directory: datasets\n",
      "2025-08-27 20:48:58,393 - dataset_generation_pipeline - INFO - Pattern validation passed: 15 patterns enabled\n",
      "2025-08-27 20:48:58,393 - signature_extractor - INFO - Signature dataset found: signature_dataset.json\n",
      "2025-08-27 20:48:58,394 - signature_extractor - INFO - Initialized Signature Extractor: device=mps, profile_methods=['mean', 'std']\n",
      "2025-08-27 20:48:58,394 - pattern_sampler - INFO - Generating sequences (vocab_size=7, sequence_length=7) for subject model datasets...\n",
      "2025-08-27 20:48:58,394 - pattern_sampler - INFO - Using enabled patterns: ['all_same', 'palindrome', 'sorted_ascending', 'sorted_descending', 'alternating', 'contains_abc', 'starts_with', 'ends_with', 'no_repeats', 'has_majority', 'increasing_pairs', 'decreasing_pairs', 'vowel_consonant', 'first_last_match', 'mountain_pattern']\n",
      "2025-08-27 20:48:58,394 - pattern_sampler - INFO - Initialized PatternSequenceGenerator: vocab_size=7, sequence_length=7\n",
      "2025-08-27 20:48:58,394 - pattern_sampler - INFO -   Vocab: ['A', 'B', 'C', 'D', 'E', 'F', 'G']\n",
      "2025-08-27 20:48:58,394 - pattern_sampler - INFO -   Vowels: ['A', 'E'], Consonants: ['B', 'C', 'D', 'F', 'G']\n",
      "2025-08-27 20:49:00,125 - pattern_sampler - INFO - Deduplicated sequences: 1,887,345 -> 8,279 (removed 1,879,066 duplicates)\n",
      "2025-08-27 20:49:00,155 - pattern_sampler - INFO - Sequence generation complete: 8,279 total unique sequences across 15 patterns\n",
      "2025-08-27 20:49:00,155 - pattern_sampler - INFO -    all_same: 7 sequences\n",
      "2025-08-27 20:49:00,155 - pattern_sampler - INFO -    alternating: 14 sequences\n",
      "2025-08-27 20:49:00,156 - pattern_sampler - INFO -    sorted_ascending: 181 sequences\n",
      "2025-08-27 20:49:00,156 - pattern_sampler - INFO -    sorted_descending: 181 sequences\n",
      "2025-08-27 20:49:00,156 - pattern_sampler - INFO -    increasing_pairs: 181 sequences\n",
      "2025-08-27 20:49:00,156 - pattern_sampler - INFO -    decreasing_pairs: 181 sequences\n",
      "2025-08-27 20:49:00,156 - pattern_sampler - INFO -    palindrome: 250 sequences\n",
      "2025-08-27 20:49:00,156 - pattern_sampler - INFO -    no_repeats: 514 sequences\n",
      "2025-08-27 20:49:00,156 - pattern_sampler - INFO -    vowel_consonant: 710 sequences\n",
      "2025-08-27 20:49:00,156 - pattern_sampler - INFO -    contains_abc: 1,010 sequences\n",
      "2025-08-27 20:49:00,156 - pattern_sampler - INFO -    starts_with: 1,010 sequences\n",
      "2025-08-27 20:49:00,156 - pattern_sampler - INFO -    ends_with: 1,010 sequences\n",
      "2025-08-27 20:49:00,156 - pattern_sampler - INFO -    has_majority: 1,010 sequences\n",
      "2025-08-27 20:49:00,156 - pattern_sampler - INFO -    first_last_match: 1,010 sequences\n",
      "2025-08-27 20:49:00,156 - pattern_sampler - INFO -    mountain_pattern: 1,010 sequences\n",
      "2025-08-27 20:49:00,156 - models - INFO - Initialized trainer with device: mps, quantization: none\n",
      "2025-08-27 20:49:00,156 - training_data_format - INFO - Initialized TrainingDataFormatter with precision=6\n",
      "2025-08-27 20:49:00,156 - dataset_generation_pipeline - INFO - DatasetGenerationPipeline initialized with configuration\n",
      "2025-08-27 20:49:00,156 - root - INFO - Starting dataset generation...\n",
      "2025-08-27 20:49:00,156 - dataset_generation_pipeline - INFO - Starting training example generation: 1000 examples\n",
      "2025-08-27 20:49:00,156 - dataset_generation_pipeline - INFO - === BATCH 1 START ===\n",
      "2025-08-27 20:49:00,156 - dataset_generation_pipeline - INFO - Progress: 0/1000 examples completed\n",
      "2025-08-27 20:49:00,156 - dataset_generation_pipeline - INFO - Selected 2 patterns for this batch: ['all_same', 'decreasing_pairs']\n",
      "2025-08-27 20:49:00,156 - dataset_generation_pipeline - INFO - Dataset target: ~500 examples (166 per pattern x 2 patterns + negatives)\n",
      "2025-08-27 20:49:00,156 - pattern_sampler - INFO - Making dataset with positive classifications for the patterns: all_same, decreasing_pairs\n",
      "2025-08-27 20:49:00,156 - pattern_sampler - INFO -     Pattern 'all_same': sampled 166 from 7 available sequences (duplicates needed)\n",
      "2025-08-27 20:49:00,156 - pattern_sampler - INFO -     Pattern 'decreasing_pairs': sampled 166 from 181 available sequences \n",
      "2025-08-27 20:49:00,156 - pattern_sampler - INFO -     Dataset created: 498 total examples (332 positive, 166 negative)\n",
      "2025-08-27 20:49:00,156 - dataset_generation_pipeline - INFO - Model config: 8 layers, 31 neurons/layer, gelu, lr=0.002032986722149412\n",
      "2025-08-27 20:49:00,156 - dataset_generation_pipeline - INFO - Training clean subject model...\n",
      "2025-08-27 20:49:00,158 - models - INFO - Initialized subject model 'gen_clean_3441' with 8 layers, 31 neurons/layer\n",
      "2025-08-27 20:49:31,006 - models - INFO - Saved model to datasets/temp_models/gen_clean_3441.pth\n",
      "^C\n",
      "2025-08-27 20:49:44,348 - root - INFO - Operation interrupted by user\n"
     ]
    }
   ],
   "source": [
    "!python cli.py run-data-gen --config $CONFIG_FILEPATH"
   ]
  }
 ],
 "metadata": {
  "accelerator": "GPU",
  "colab": {
   "gpuType": "T4",
   "provenance": []
  },
  "kernelspec": {
   "display_name": "3.9.22",
   "language": "python",
   "name": "python3"
  },
  "language_info": {
   "codemirror_mode": {
    "name": "ipython",
    "version": 3
   },
   "file_extension": ".py",
   "mimetype": "text/x-python",
   "name": "python",
   "nbconvert_exporter": "python",
   "pygments_lexer": "ipython3",
   "version": "3.9.22"
  }
 },
 "nbformat": 4,
 "nbformat_minor": 0
}
